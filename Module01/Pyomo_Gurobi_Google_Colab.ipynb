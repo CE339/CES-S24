{
  "nbformat": 4,
  "nbformat_minor": 0,
  "metadata": {
    "colab": {
      "provenance": [],
      "include_colab_link": true
    },
    "kernelspec": {
      "name": "python3",
      "display_name": "Python 3"
    }
  },
  "cells": [
    {
      "cell_type": "markdown",
      "metadata": {
        "id": "view-in-github",
        "colab_type": "text"
      },
      "source": [
        "<a href=\"https://colab.research.google.com/github/CE339/CES-S24/blob/main/Module01/Pyomo_Gurobi_Google_Colab.ipynb\" target=\"_parent\"><img src=\"https://colab.research.google.com/assets/colab-badge.svg\" alt=\"Open In Colab\"/></a>"
      ]
    },
    {
      "cell_type": "markdown",
      "metadata": {
        "id": "IWF57u74gNcZ"
      },
      "source": [
        "<h1> Step 1 - Install Pyomo</h1>\n",
        "Start by installing the pyomo package.  You will need to do this at the beginning of every session."
      ]
    },
    {
      "cell_type": "code",
      "metadata": {
        "id": "cg4EYZCngJod",
        "colab": {
          "base_uri": "https://localhost:8080/"
        },
        "outputId": "6da56804-cb45-4000-a73e-3066d4a56b99"
      },
      "source": [
        "!pip install -q pyomo"
      ],
      "execution_count": 1,
      "outputs": [
        {
          "output_type": "stream",
          "name": "stdout",
          "text": [
            "\u001b[2K     \u001b[90m━━━━━━━━━━━━━━━━━━━━━━━━━━━━━━━━━━━━━━━━\u001b[0m \u001b[32m12.5/12.5 MB\u001b[0m \u001b[31m23.3 MB/s\u001b[0m eta \u001b[36m0:00:00\u001b[0m\n",
            "\u001b[2K     \u001b[90m━━━━━━━━━━━━━━━━━━━━━━━━━━━━━━━━━━━━━━━━\u001b[0m \u001b[32m49.6/49.6 kB\u001b[0m \u001b[31m3.2 MB/s\u001b[0m eta \u001b[36m0:00:00\u001b[0m\n",
            "\u001b[?25h"
          ]
        }
      ]
    },
    {
      "cell_type": "markdown",
      "metadata": {
        "id": "Tbtele-LgdBU"
      },
      "source": [
        "<h1>Step 2 - Install Gurobi</h1>\n",
        "Next, install Gurobi. You will need to do this at the beginning of every session as well."
      ]
    },
    {
      "cell_type": "code",
      "metadata": {
        "id": "UGjKvtJMgmJB",
        "colab": {
          "base_uri": "https://localhost:8080/"
        },
        "outputId": "97719140-85eb-4ffb-d4b3-b8d6a236cddb"
      },
      "source": [
        "!pip install gurobipy\n",
        "import gurobipy as gp"
      ],
      "execution_count": 2,
      "outputs": [
        {
          "output_type": "stream",
          "name": "stdout",
          "text": [
            "Collecting gurobipy\n",
            "  Downloading gurobipy-11.0.0-cp310-cp310-manylinux2014_x86_64.manylinux_2_17_x86_64.whl (13.4 MB)\n",
            "\u001b[2K     \u001b[90m━━━━━━━━━━━━━━━━━━━━━━━━━━━━━━━━━━━━━━━━\u001b[0m \u001b[32m13.4/13.4 MB\u001b[0m \u001b[31m22.7 MB/s\u001b[0m eta \u001b[36m0:00:00\u001b[0m\n",
            "\u001b[?25hInstalling collected packages: gurobipy\n",
            "Successfully installed gurobipy-11.0.0\n"
          ]
        }
      ]
    },
    {
      "cell_type": "code",
      "source": [
        "# Create an environment with your WLS license\n",
        "params = {\n",
        "\"WLSACCESSID\": 'your wls accessid (string)',\n",
        "\"WLSSECRET\": 'your wls secret (string)',\n",
        "\"LICENSEID\": <your license id (integer)>,\n",
        "}\n",
        "env = gp.Env(params=params)\n",
        "\n",
        "# Create the model within the Gurobi environment\n",
        "model = gp.Model(env=env)"
      ],
      "metadata": {
        "id": "FLeJemqhFsjS"
      },
      "execution_count": null,
      "outputs": []
    },
    {
      "cell_type": "markdown",
      "metadata": {
        "id": "RhHi6iKLgv7V"
      },
      "source": [
        "<h1> Step 3 - Create your model</h1>\n",
        "Create your model. Here we are creating our simple hello world linear program\n",
        "\n",
        "\n",
        "<ul type = \"none\">\n",
        "<li>maximize z=x</li>\n",
        "<li>subject to: </li>\n",
        "<li>x<=100</li>\n",
        "<li>x>=0</li>\n",
        "\n",
        "\n"
      ]
    },
    {
      "cell_type": "code",
      "metadata": {
        "id": "gW6OueD3hA6Y"
      },
      "source": [
        "from pyomo.environ import * #importing PYOMO modeling objects\n",
        "\n",
        "#creating the model object\n",
        "model= ConcreteModel()\n",
        "\n",
        "#declaring the decision variables\n",
        "model.x = Var(within=NonNegativeReals)  #x is a decision variable whose range is X>=0\n",
        "\n",
        "#declaring the objective function  (maximize z = x)\n",
        "\n",
        "model.maximizeZ = Objective (expr= model.x, sense=maximize)\n",
        "\n",
        "#declaring the constraints\n",
        "model.Constraint1= Constraint (expr=model.x<=100) # x<=100"
      ],
      "execution_count": 3,
      "outputs": []
    },
    {
      "cell_type": "markdown",
      "metadata": {
        "id": "j3xjAimMhn84"
      },
      "source": [
        "<h1> Step 4 - Solve the Model </h1>\n",
        "Next we must create a SolverFactory that uses the glpk solver. Then solve the model and display the results. The results should indicate the optimal solution is x=100 with an objective function of 100."
      ]
    },
    {
      "cell_type": "code",
      "metadata": {
        "id": "YFmC_l18htgb",
        "colab": {
          "base_uri": "https://localhost:8080/"
        },
        "outputId": "f4452d61-d397-4d78-9a0a-76869fef3396"
      },
      "source": [
        "#Lines to run the model from within a python IDE\n",
        "optimizer = SolverFactory(\"gurobi\")#,executable='/usr/bin/gurobi')     #creates an optimizer object that uses the glpk package installed to your usr/bin.\n",
        "optimizer.solve(model)                #tells your optimizer to solve the model object\n",
        "model.display()                       #writes results to the console so you can see them"
      ],
      "execution_count": 4,
      "outputs": [
        {
          "output_type": "stream",
          "name": "stdout",
          "text": [
            "Model unknown\n",
            "\n",
            "  Variables:\n",
            "    x : Size=1, Index=None\n",
            "        Key  : Lower : Value : Upper : Fixed : Stale : Domain\n",
            "        None :     0 : 100.0 :  None : False : False : NonNegativeReals\n",
            "\n",
            "  Objectives:\n",
            "    maximizeZ : Size=1, Index=None, Active=True\n",
            "        Key  : Active : Value\n",
            "        None :   True : 100.0\n",
            "\n",
            "  Constraints:\n",
            "    Constraint1 : Size=1\n",
            "        Key  : Lower : Body  : Upper\n",
            "        None :  None : 100.0 : 100.0\n"
          ]
        }
      ]
    }
  ]
}