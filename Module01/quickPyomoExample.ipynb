{
  "nbformat": 4,
  "nbformat_minor": 0,
  "metadata": {
    "colab": {
      "provenance": [],
      "authorship_tag": "ABX9TyMbwZtSN4ttonmCRWFTh3Zf",
      "include_colab_link": true
    },
    "kernelspec": {
      "name": "python3",
      "display_name": "Python 3"
    },
    "language_info": {
      "name": "python"
    }
  },
  "cells": [
    {
      "cell_type": "markdown",
      "metadata": {
        "id": "view-in-github",
        "colab_type": "text"
      },
      "source": [
        "<a href=\"https://colab.research.google.com/github/CE339/CES-S24/blob/main/Module01/quickPyomoExample.ipynb\" target=\"_parent\"><img src=\"https://colab.research.google.com/assets/colab-badge.svg\" alt=\"Open In Colab\"/></a>"
      ]
    },
    {
      "cell_type": "code",
      "execution_count": null,
      "metadata": {
        "id": "lZK6byZhNNNO"
      },
      "outputs": [],
      "source": [
        "!pip install -q pyomo"
      ]
    },
    {
      "cell_type": "code",
      "source": [
        "from pyomo.environ import *\n",
        "\n",
        "# create a model\n",
        "model = ConcreteModel()\n",
        "\n",
        "# declare decision variables\n",
        "model.x = Var(domain=NonNegativeReals)\n",
        "model.y = Var(domain=NonNegativeReals)\n",
        "\n",
        "# declare objective\n",
        "model.profit = Objective(expr = 3*model.x + 5*model.y, sense=maximize)\n",
        "\n",
        "# declare constraints\n",
        "model.demand = Constraint(expr = model.x <= 4)\n",
        "model.constraint1 = Constraint(expr = 2*model.y <= 12)\n",
        "model.constraint2 = Constraint(expr = 3*model.x + 2*model.y <= 18)\n",
        "\n",
        "model.pprint()"
      ],
      "metadata": {
        "id": "N-7YSSxtNSYa"
      },
      "execution_count": null,
      "outputs": []
    },
    {
      "cell_type": "code",
      "source": [
        "!apt-get install -y -qq glpk-utils"
      ],
      "metadata": {
        "id": "EuqvjLGINqFu"
      },
      "execution_count": null,
      "outputs": []
    },
    {
      "cell_type": "code",
      "source": [
        "SolverFactory('glpk', executable='/usr/bin/glpsol').solve(model).write()\n",
        "\n",
        "# display solution\n",
        "print('\\nProfit = ', model.profit())\n",
        "\n",
        "print('\\nDecision Variables')\n",
        "print('x = ', model.x())\n",
        "print('y = ', model.y())\n",
        "\n",
        "print('\\nConstraints')\n",
        "print('Demand  = ', model.demand())\n",
        "print('Constraint 1 = ', model.constraint1())\n",
        "print('Constraint 2 = ', model.constraint2())"
      ],
      "metadata": {
        "id": "R0gfXM4WNvhM"
      },
      "execution_count": null,
      "outputs": []
    }
  ]
}