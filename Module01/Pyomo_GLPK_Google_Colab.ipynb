{
  "nbformat": 4,
  "nbformat_minor": 0,
  "metadata": {
    "colab": {
      "provenance": [],
      "include_colab_link": true
    },
    "kernelspec": {
      "name": "python3",
      "display_name": "Python 3"
    }
  },
  "cells": [
    {
      "cell_type": "markdown",
      "metadata": {
        "id": "view-in-github",
        "colab_type": "text"
      },
      "source": [
        "<a href=\"https://colab.research.google.com/github/CE339/CES-S24/blob/main/Module01/Pyomo_GLPK_Google_Colab.ipynb\" target=\"_parent\"><img src=\"https://colab.research.google.com/assets/colab-badge.svg\" alt=\"Open In Colab\"/></a>"
      ]
    },
    {
      "cell_type": "markdown",
      "metadata": {
        "id": "IWF57u74gNcZ"
      },
      "source": [
        "<h1> Step 1 - Install Pyomo</h1>\n",
        "Start by installing the pyomo package.  You will need to do this at the beginning of every session."
      ]
    },
    {
      "cell_type": "code",
      "metadata": {
        "id": "cg4EYZCngJod",
        "colab": {
          "base_uri": "https://localhost:8080/"
        },
        "outputId": "4a8b54ef-eb66-440b-dc3d-17716ffc30fc"
      },
      "source": [
        "!pip install -q pyomo"
      ],
      "execution_count": 1,
      "outputs": [
        {
          "output_type": "stream",
          "name": "stdout",
          "text": [
            "\u001b[2K     \u001b[90m━━━━━━━━━━━━━━━━━━━━━━━━━━━━━━━━━━━━━━━━\u001b[0m \u001b[32m12.5/12.5 MB\u001b[0m \u001b[31m20.4 MB/s\u001b[0m eta \u001b[36m0:00:00\u001b[0m\n",
            "\u001b[2K     \u001b[90m━━━━━━━━━━━━━━━━━━━━━━━━━━━━━━━━━━━━━━━━\u001b[0m \u001b[32m49.6/49.6 kB\u001b[0m \u001b[31m3.6 MB/s\u001b[0m eta \u001b[36m0:00:00\u001b[0m\n",
            "\u001b[?25h"
          ]
        }
      ]
    },
    {
      "cell_type": "markdown",
      "metadata": {
        "id": "Tbtele-LgdBU"
      },
      "source": [
        "<h1>Step 2 - Install GLPK</h1>\n",
        "Next, install GLPK. You will need to do this at the beginning of every session as well."
      ]
    },
    {
      "cell_type": "code",
      "metadata": {
        "id": "UGjKvtJMgmJB",
        "colab": {
          "base_uri": "https://localhost:8080/"
        },
        "outputId": "cac68bbf-0af6-4183-d9c9-6040a071b0ce"
      },
      "source": [
        "!apt-get install -y -qq glpk-utils"
      ],
      "execution_count": 2,
      "outputs": [
        {
          "output_type": "stream",
          "name": "stdout",
          "text": [
            "Selecting previously unselected package libsuitesparseconfig5:amd64.\n",
            "(Reading database ... 121654 files and directories currently installed.)\n",
            "Preparing to unpack .../libsuitesparseconfig5_1%3a5.10.1+dfsg-4build1_amd64.deb ...\n",
            "Unpacking libsuitesparseconfig5:amd64 (1:5.10.1+dfsg-4build1) ...\n",
            "Selecting previously unselected package libamd2:amd64.\n",
            "Preparing to unpack .../libamd2_1%3a5.10.1+dfsg-4build1_amd64.deb ...\n",
            "Unpacking libamd2:amd64 (1:5.10.1+dfsg-4build1) ...\n",
            "Selecting previously unselected package libcolamd2:amd64.\n",
            "Preparing to unpack .../libcolamd2_1%3a5.10.1+dfsg-4build1_amd64.deb ...\n",
            "Unpacking libcolamd2:amd64 (1:5.10.1+dfsg-4build1) ...\n",
            "Selecting previously unselected package libglpk40:amd64.\n",
            "Preparing to unpack .../libglpk40_5.0-1_amd64.deb ...\n",
            "Unpacking libglpk40:amd64 (5.0-1) ...\n",
            "Selecting previously unselected package glpk-utils.\n",
            "Preparing to unpack .../glpk-utils_5.0-1_amd64.deb ...\n",
            "Unpacking glpk-utils (5.0-1) ...\n",
            "Setting up libsuitesparseconfig5:amd64 (1:5.10.1+dfsg-4build1) ...\n",
            "Setting up libamd2:amd64 (1:5.10.1+dfsg-4build1) ...\n",
            "Setting up libcolamd2:amd64 (1:5.10.1+dfsg-4build1) ...\n",
            "Setting up libglpk40:amd64 (5.0-1) ...\n",
            "Setting up glpk-utils (5.0-1) ...\n",
            "Processing triggers for man-db (2.10.2-1) ...\n",
            "Processing triggers for libc-bin (2.35-0ubuntu3.4) ...\n",
            "/sbin/ldconfig.real: /usr/local/lib/libtbbmalloc_proxy.so.2 is not a symbolic link\n",
            "\n",
            "/sbin/ldconfig.real: /usr/local/lib/libtbbbind.so.3 is not a symbolic link\n",
            "\n",
            "/sbin/ldconfig.real: /usr/local/lib/libtbbbind_2_0.so.3 is not a symbolic link\n",
            "\n",
            "/sbin/ldconfig.real: /usr/local/lib/libtbb.so.12 is not a symbolic link\n",
            "\n",
            "/sbin/ldconfig.real: /usr/local/lib/libtbbmalloc.so.2 is not a symbolic link\n",
            "\n",
            "/sbin/ldconfig.real: /usr/local/lib/libtbbbind_2_5.so.3 is not a symbolic link\n",
            "\n"
          ]
        }
      ]
    },
    {
      "cell_type": "markdown",
      "metadata": {
        "id": "RhHi6iKLgv7V"
      },
      "source": [
        "<h1> Step 3 - Create your model</h1>\n",
        "Create your model. Here we are creating our simple hello world linear program\n",
        "\n",
        "\n",
        "<ul type = \"none\">\n",
        "<li>maximize z=x</li>\n",
        "<li>subject to: </li>\n",
        "<li>x<=100</li>\n",
        "<li>x>=0</li>\n",
        "\n",
        "\n"
      ]
    },
    {
      "cell_type": "code",
      "metadata": {
        "id": "gW6OueD3hA6Y"
      },
      "source": [
        "from pyomo.environ import * #importing PYOMO modeling objects\n",
        "\n",
        "#creating the model object\n",
        "model= ConcreteModel()\n",
        "\n",
        "#declaring the decision variables\n",
        "model.x = Var(within=NonNegativeReals)  #x is a decision variable whose range is X>=0\n",
        "\n",
        "#declaring the objective function  (maximize z = x)\n",
        "\n",
        "model.maximizeZ = Objective (expr= model.x, sense=maximize)\n",
        "\n",
        "#declaring the constraints\n",
        "model.Constraint1= Constraint (expr=model.x<=100) # x<=100"
      ],
      "execution_count": 3,
      "outputs": []
    },
    {
      "cell_type": "markdown",
      "metadata": {
        "id": "j3xjAimMhn84"
      },
      "source": [
        "<h1> Step 4 - Solve the Model </h1>\n",
        "Next we must create a SolverFactory that uses the glpk solver. Then solve the model and display the results. The results should indicate the optimal solution is x=100 with an objective function of 100."
      ]
    },
    {
      "cell_type": "code",
      "metadata": {
        "id": "YFmC_l18htgb",
        "colab": {
          "base_uri": "https://localhost:8080/"
        },
        "outputId": "a2136b8e-ba80-42ac-8994-e1f54b724818"
      },
      "source": [
        "#Lines to run the model from within a python IDE\n",
        "optimizer = SolverFactory(\"glpk\",executable='/usr/bin/glpsol')     #creates an optimizer object that uses the glpk package installed to your usr/bin.\n",
        "optimizer.solve(model)                #tells your optimizer to solve the model object\n",
        "model.display()                       #writes results to the console so you can see them"
      ],
      "execution_count": 4,
      "outputs": [
        {
          "output_type": "stream",
          "name": "stdout",
          "text": [
            "Model unknown\n",
            "\n",
            "  Variables:\n",
            "    x : Size=1, Index=None\n",
            "        Key  : Lower : Value : Upper : Fixed : Stale : Domain\n",
            "        None :     0 : 100.0 :  None : False : False : NonNegativeReals\n",
            "\n",
            "  Objectives:\n",
            "    maximizeZ : Size=1, Index=None, Active=True\n",
            "        Key  : Active : Value\n",
            "        None :   True : 100.0\n",
            "\n",
            "  Constraints:\n",
            "    Constraint1 : Size=1\n",
            "        Key  : Lower : Body  : Upper\n",
            "        None :  None : 100.0 : 100.0\n"
          ]
        }
      ]
    }
  ]
}