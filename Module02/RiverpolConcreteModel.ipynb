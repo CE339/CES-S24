{
  "nbformat": 4,
  "nbformat_minor": 0,
  "metadata": {
    "colab": {
      "provenance": [],
      "authorship_tag": "ABX9TyPubrdszrGGpiUsVcmfrogZ",
      "include_colab_link": true
    },
    "kernelspec": {
      "name": "python3",
      "display_name": "Python 3"
    },
    "language_info": {
      "name": "python"
    }
  },
  "cells": [
    {
      "cell_type": "markdown",
      "metadata": {
        "id": "view-in-github",
        "colab_type": "text"
      },
      "source": [
        "<a href=\"https://colab.research.google.com/github/CE339/CES-S24/blob/main/Module02/RiverpolConcreteModel.ipynb\" target=\"_parent\"><img src=\"https://colab.research.google.com/assets/colab-badge.svg\" alt=\"Open In Colab\"/></a>"
      ]
    },
    {
      "cell_type": "markdown",
      "source": [
        "**Initializing Google Colab**"
      ],
      "metadata": {
        "id": "25EJeMvwKF0h"
      }
    },
    {
      "cell_type": "code",
      "execution_count": null,
      "metadata": {
        "id": "TZundEmDJrHv"
      },
      "outputs": [],
      "source": [
        "from google.colab import drive\n",
        "drive.mount('/content/drive')"
      ]
    },
    {
      "cell_type": "code",
      "source": [
        "import os\n",
        "os.chdir('/content/drive/MyDrive/Colab Notebooks/')"
      ],
      "metadata": {
        "id": "xmw13J7pKO7_"
      },
      "execution_count": null,
      "outputs": []
    },
    {
      "cell_type": "markdown",
      "source": [
        "**Installing Pyomo and a solver**. We will use glpk as a solver for this model. Next time we will install and use COIN-OR CBC."
      ],
      "metadata": {
        "id": "ofKbeZ72KSZp"
      }
    },
    {
      "cell_type": "code",
      "source": [
        "!pip install pyomo\n",
        "!apt-get install -y -qq glpk-utils\n",
        "#!apt-get install -y -qq coinor-cbc"
      ],
      "metadata": {
        "id": "Eba1nFWgKiVr"
      },
      "execution_count": null,
      "outputs": []
    },
    {
      "cell_type": "markdown",
      "source": [
        "**Importing Pyomo and CBC Solver**"
      ],
      "metadata": {
        "id": "Ejh8CBfyLCZj"
      }
    },
    {
      "cell_type": "code",
      "source": [
        "from pyomo.environ import *\n",
        "#Import solver\n",
        "opt=SolverFactory('glpk',executable='/usr/bin/glpk')"
      ],
      "metadata": {
        "id": "-DLDB4bOLHWz"
      },
      "execution_count": null,
      "outputs": []
    },
    {
      "cell_type": "markdown",
      "source": [
        "**Building the concrete model**"
      ],
      "metadata": {
        "id": "_XLpvrBlLPwr"
      }
    },
    {
      "cell_type": "markdown",
      "source": [
        "**In this exercise we will create a Concrete model in Pyomo and solve it**.\n",
        "In many contexts, a mathematical model can and should be directly defined with the data values supplied at the time of the model definition. We call these concrete mathematical models. For example, the following LP model can be represented in Pyomo as a concrete model:\n",
        "\n",
        "      min  2x1 + 5x2\n",
        "      s.t. 5x1 + 3x2\n",
        "       x1, x2 >= 0\n",
        "\n",
        "The ConcreteModel class is used to define concrete optimization models in Pyomo. We will explore this using the River Pollution example using Sets."
      ],
      "metadata": {
        "id": "_X66LmsWLs1j"
      }
    },
    {
      "cell_type": "code",
      "source": [
        "from math import inf\n",
        "\n",
        "model = ConcreteModel()\n",
        "\n",
        "model.I = Set(initialize=[\"F_A\",\"F_B\"]) # Set of Factories\n",
        "model.J = Set(initialize=['P_1','P_2']) # Set of Pollutants\n",
        "\n",
        "# Parameters Definition\n",
        "# ci - Cost to process waste from factory\n",
        "model.c    = Param(model.I, initialize={\"F_A\":15 , \"F_B\":10})\n",
        "# rij - Rate of reduction in pollutant type if emission is treated at factory\n",
        "model.r    = Param(model.I, model.J, initialize={(\"F_A\",'P_1'):0.1, (\"F_A\",'P_2'):0.4,(\"F_B\",'P_1'):0.2,(\"F_B\",'P_2'):0.16})\n",
        "# Sj - State requirement to reduce pollutants\n",
        "model.S = Param(model.J,initialize={'P_1':30, 'P_2':40})\n",
        "\n",
        "# Decision Variables Definition\n",
        "model.w = Var(model.I, within=NonNegativeReals) # wi - Processed waste from Factory i\n",
        "\n",
        "# Objective Function - Minimize the cost of waste treatment to reduce pollutants\n",
        "def cost_rule(model):\n",
        "    return sum(model.c[i]*model.w[i] for i in model.I)\n",
        "model.cost = Objective(rule=cost_rule)\n",
        "\n",
        "# Constraints - Satisfy the state's requeriments on pollutant reduction\n",
        "def pollutant_rule(model, j):\n",
        "    return sum(model.r[i,j]*model.w[i] for i in model.I) >= model.S[j]\n",
        "model.pollutant = Constraint(model.J, rule=pollutant_rule)"
      ],
      "metadata": {
        "id": "3qGsVossLW8T"
      },
      "execution_count": null,
      "outputs": []
    },
    {
      "cell_type": "markdown",
      "source": [
        "**Optimizing the concrete model**"
      ],
      "metadata": {
        "id": "Pywr6kNJOO46"
      }
    },
    {
      "cell_type": "code",
      "source": [
        "opt = SolverFactory('glpk')\n",
        "results = opt.solve(model, tee=True)"
      ],
      "metadata": {
        "id": "Uj7ttFgpNinB"
      },
      "execution_count": null,
      "outputs": []
    },
    {
      "cell_type": "markdown",
      "source": [
        "**Display Results**"
      ],
      "metadata": {
        "id": "un-asORNOXBR"
      }
    },
    {
      "cell_type": "code",
      "source": [
        "print(model.display())"
      ],
      "metadata": {
        "id": "3uFr7JyEN8L5"
      },
      "execution_count": null,
      "outputs": []
    }
  ]
}