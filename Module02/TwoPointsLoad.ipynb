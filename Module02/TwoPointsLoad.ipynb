{
  "nbformat": 4,
  "nbformat_minor": 0,
  "metadata": {
    "colab": {
      "provenance": [],
      "authorship_tag": "ABX9TyP1iBx/qB2J73XHtyhjHD4R",
      "include_colab_link": true
    },
    "kernelspec": {
      "name": "python3",
      "display_name": "Python 3"
    },
    "language_info": {
      "name": "python"
    }
  },
  "cells": [
    {
      "cell_type": "markdown",
      "metadata": {
        "id": "view-in-github",
        "colab_type": "text"
      },
      "source": [
        "<a href=\"https://colab.research.google.com/github/CE339/CES-S24/blob/main/Module02/TwoPointsLoad.ipynb\" target=\"_parent\"><img src=\"https://colab.research.google.com/assets/colab-badge.svg\" alt=\"Open In Colab\"/></a>"
      ]
    },
    {
      "cell_type": "code",
      "execution_count": 1,
      "metadata": {
        "id": "lZK6byZhNNNO",
        "colab": {
          "base_uri": "https://localhost:8080/"
        },
        "outputId": "8be56e16-8cc4-43a3-f1b9-083db09de438"
      },
      "outputs": [
        {
          "output_type": "stream",
          "name": "stdout",
          "text": [
            "\u001b[2K     \u001b[90m━━━━━━━━━━━━━━━━━━━━━━━━━━━━━━━━━━━━━━━━\u001b[0m \u001b[32m12.5/12.5 MB\u001b[0m \u001b[31m28.4 MB/s\u001b[0m eta \u001b[36m0:00:00\u001b[0m\n",
            "\u001b[2K     \u001b[90m━━━━━━━━━━━━━━━━━━━━━━━━━━━━━━━━━━━━━━━━\u001b[0m \u001b[32m49.6/49.6 kB\u001b[0m \u001b[31m3.4 MB/s\u001b[0m eta \u001b[36m0:00:00\u001b[0m\n",
            "\u001b[?25h"
          ]
        }
      ],
      "source": [
        "!pip install -q pyomo"
      ]
    },
    {
      "cell_type": "code",
      "source": [
        "from pyomo.environ import *\n",
        "\n",
        "# create a model\n",
        "model = ConcreteModel()\n",
        "\n",
        "# declare decision variables\n",
        "model.P1 = Var(domain=NonNegativeReals)\n",
        "model.P2 = Var(domain=NonNegativeReals)\n",
        "\n",
        "# declare objective\n",
        "model.maxload = Objective(expr = model.P1 + model.P2, sense=maximize)\n",
        "\n",
        "# declare constraints\n",
        "model.constraint1 = Constraint(expr = (15/20)*model.P1 + (10/20)*model.P2 <= 12)\n",
        "model.constraint2 = Constraint(expr = (5/20)*model.P1 + (10/20)*model.P2 <= 19)\n",
        "model.constraint3 = Constraint(expr = (15/4)*model.P1 + (10/4)*model.P2 <= 65)\n",
        "model.constraint4 = Constraint(expr = (5/2)*model.P1 + (10/2)*model.P2 <= 65)\n",
        "\n",
        "model.pprint()"
      ],
      "metadata": {
        "id": "N-7YSSxtNSYa",
        "colab": {
          "base_uri": "https://localhost:8080/"
        },
        "outputId": "76838a69-6fa4-4c6f-c591-7f905afd4b49"
      },
      "execution_count": 2,
      "outputs": [
        {
          "output_type": "stream",
          "name": "stdout",
          "text": [
            "2 Var Declarations\n",
            "    P1 : Size=1, Index=None\n",
            "        Key  : Lower : Value : Upper : Fixed : Stale : Domain\n",
            "        None :     0 :  None :  None : False :  True : NonNegativeReals\n",
            "    P2 : Size=1, Index=None\n",
            "        Key  : Lower : Value : Upper : Fixed : Stale : Domain\n",
            "        None :     0 :  None :  None : False :  True : NonNegativeReals\n",
            "\n",
            "1 Objective Declarations\n",
            "    maxload : Size=1, Index=None, Active=True\n",
            "        Key  : Active : Sense    : Expression\n",
            "        None :   True : maximize : P1 + P2\n",
            "\n",
            "4 Constraint Declarations\n",
            "    constraint1 : Size=1, Index=None, Active=True\n",
            "        Key  : Lower : Body             : Upper : Active\n",
            "        None :  -Inf : 0.75*P1 + 0.5*P2 :  12.0 :   True\n",
            "    constraint2 : Size=1, Index=None, Active=True\n",
            "        Key  : Lower : Body             : Upper : Active\n",
            "        None :  -Inf : 0.25*P1 + 0.5*P2 :  19.0 :   True\n",
            "    constraint3 : Size=1, Index=None, Active=True\n",
            "        Key  : Lower : Body             : Upper : Active\n",
            "        None :  -Inf : 3.75*P1 + 2.5*P2 :  65.0 :   True\n",
            "    constraint4 : Size=1, Index=None, Active=True\n",
            "        Key  : Lower : Body            : Upper : Active\n",
            "        None :  -Inf : 2.5*P1 + 5.0*P2 :  65.0 :   True\n",
            "\n",
            "7 Declarations: P1 P2 maxload constraint1 constraint2 constraint3 constraint4\n"
          ]
        }
      ]
    },
    {
      "cell_type": "code",
      "source": [
        "!apt-get install -y -qq glpk-utils"
      ],
      "metadata": {
        "id": "EuqvjLGINqFu",
        "colab": {
          "base_uri": "https://localhost:8080/"
        },
        "outputId": "a77a127e-448b-4b61-f390-5ecc84ef35c8"
      },
      "execution_count": 3,
      "outputs": [
        {
          "output_type": "stream",
          "name": "stdout",
          "text": [
            "Selecting previously unselected package libsuitesparseconfig5:amd64.\n",
            "(Reading database ... 121730 files and directories currently installed.)\n",
            "Preparing to unpack .../libsuitesparseconfig5_1%3a5.10.1+dfsg-4build1_amd64.deb ...\n",
            "Unpacking libsuitesparseconfig5:amd64 (1:5.10.1+dfsg-4build1) ...\n",
            "Selecting previously unselected package libamd2:amd64.\n",
            "Preparing to unpack .../libamd2_1%3a5.10.1+dfsg-4build1_amd64.deb ...\n",
            "Unpacking libamd2:amd64 (1:5.10.1+dfsg-4build1) ...\n",
            "Selecting previously unselected package libcolamd2:amd64.\n",
            "Preparing to unpack .../libcolamd2_1%3a5.10.1+dfsg-4build1_amd64.deb ...\n",
            "Unpacking libcolamd2:amd64 (1:5.10.1+dfsg-4build1) ...\n",
            "Selecting previously unselected package libglpk40:amd64.\n",
            "Preparing to unpack .../libglpk40_5.0-1_amd64.deb ...\n",
            "Unpacking libglpk40:amd64 (5.0-1) ...\n",
            "Selecting previously unselected package glpk-utils.\n",
            "Preparing to unpack .../glpk-utils_5.0-1_amd64.deb ...\n",
            "Unpacking glpk-utils (5.0-1) ...\n",
            "Setting up libsuitesparseconfig5:amd64 (1:5.10.1+dfsg-4build1) ...\n",
            "Setting up libamd2:amd64 (1:5.10.1+dfsg-4build1) ...\n",
            "Setting up libcolamd2:amd64 (1:5.10.1+dfsg-4build1) ...\n",
            "Setting up libglpk40:amd64 (5.0-1) ...\n",
            "Setting up glpk-utils (5.0-1) ...\n",
            "Processing triggers for man-db (2.10.2-1) ...\n",
            "Processing triggers for libc-bin (2.35-0ubuntu3.4) ...\n",
            "/sbin/ldconfig.real: /usr/local/lib/libtbb.so.12 is not a symbolic link\n",
            "\n",
            "/sbin/ldconfig.real: /usr/local/lib/libtbbbind_2_5.so.3 is not a symbolic link\n",
            "\n",
            "/sbin/ldconfig.real: /usr/local/lib/libtbbmalloc.so.2 is not a symbolic link\n",
            "\n",
            "/sbin/ldconfig.real: /usr/local/lib/libtbbbind_2_0.so.3 is not a symbolic link\n",
            "\n",
            "/sbin/ldconfig.real: /usr/local/lib/libtbbmalloc_proxy.so.2 is not a symbolic link\n",
            "\n",
            "/sbin/ldconfig.real: /usr/local/lib/libtbbbind.so.3 is not a symbolic link\n",
            "\n"
          ]
        }
      ]
    },
    {
      "cell_type": "code",
      "source": [
        "SolverFactory('glpk', executable='/usr/bin/glpsol').solve(model).write()\n",
        "\n",
        "# display solution\n",
        "print('\\nProfit = ', model.maxload())\n",
        "\n",
        "print('\\nDecision Variables')\n",
        "print('P1 = ', model.P1())\n",
        "print('P2 = ', model.P2())\n",
        "\n",
        "print('\\nConstraints')\n",
        "print('Constraint 1 = ', model.constraint1())\n",
        "print('Constraint 2 = ', model.constraint2())\n",
        "print('Constraint 3 = ', model.constraint3())\n",
        "print('Constraint 4 = ', model.constraint4())"
      ],
      "metadata": {
        "id": "R0gfXM4WNvhM",
        "colab": {
          "base_uri": "https://localhost:8080/"
        },
        "outputId": "3eaeab1c-527b-4b86-c913-f20715b8e98a"
      },
      "execution_count": 5,
      "outputs": [
        {
          "output_type": "stream",
          "name": "stdout",
          "text": [
            "# ==========================================================\n",
            "# = Solver Results                                         =\n",
            "# ==========================================================\n",
            "# ----------------------------------------------------------\n",
            "#   Problem Information\n",
            "# ----------------------------------------------------------\n",
            "Problem: \n",
            "- Name: unknown\n",
            "  Lower bound: 18.5\n",
            "  Upper bound: 18.5\n",
            "  Number of objectives: 1\n",
            "  Number of constraints: 4\n",
            "  Number of variables: 2\n",
            "  Number of nonzeros: 8\n",
            "  Sense: maximize\n",
            "# ----------------------------------------------------------\n",
            "#   Solver Information\n",
            "# ----------------------------------------------------------\n",
            "Solver: \n",
            "- Status: ok\n",
            "  Termination condition: optimal\n",
            "  Statistics: \n",
            "    Branch and bound: \n",
            "      Number of bounded subproblems: 0\n",
            "      Number of created subproblems: 0\n",
            "  Error rc: 0\n",
            "  Time: 0.0067195892333984375\n",
            "# ----------------------------------------------------------\n",
            "#   Solution Information\n",
            "# ----------------------------------------------------------\n",
            "Solution: \n",
            "- number of solutions: 0\n",
            "  number of solutions displayed: 0\n",
            "\n",
            "Profit =  18.5\n",
            "\n",
            "Decision Variables\n",
            "P1 =  11.0\n",
            "P2 =  7.5\n",
            "\n",
            "Constraints\n",
            "Constraint 1 =  12.0\n",
            "Constraint 2 =  6.5\n",
            "Constraint 3 =  60.0\n",
            "Constraint 4 =  65.0\n"
          ]
        }
      ]
    }
  ]
}