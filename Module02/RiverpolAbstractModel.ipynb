{
  "nbformat": 4,
  "nbformat_minor": 0,
  "metadata": {
    "colab": {
      "provenance": [],
      "authorship_tag": "ABX9TyPMXM/vfH6JD5V+EdfAqIca",
      "include_colab_link": true
    },
    "kernelspec": {
      "name": "python3",
      "display_name": "Python 3"
    },
    "language_info": {
      "name": "python"
    }
  },
  "cells": [
    {
      "cell_type": "markdown",
      "metadata": {
        "id": "view-in-github",
        "colab_type": "text"
      },
      "source": [
        "<a href=\"https://colab.research.google.com/github/CE339/CES-S24/blob/main/Module02/RiverpolAbstractModel.ipynb\" target=\"_parent\"><img src=\"https://colab.research.google.com/assets/colab-badge.svg\" alt=\"Open In Colab\"/></a>"
      ]
    },
    {
      "cell_type": "markdown",
      "source": [
        "**Initializing Google Colab**"
      ],
      "metadata": {
        "id": "25EJeMvwKF0h"
      }
    },
    {
      "cell_type": "code",
      "execution_count": null,
      "metadata": {
        "id": "TZundEmDJrHv"
      },
      "outputs": [],
      "source": [
        "from google.colab import drive\n",
        "drive.mount('/content/drive')"
      ]
    },
    {
      "cell_type": "code",
      "source": [
        "import os\n",
        "os.chdir('/content/drive/MyDrive/Colab Notebooks/')"
      ],
      "metadata": {
        "id": "xmw13J7pKO7_"
      },
      "execution_count": null,
      "outputs": []
    },
    {
      "cell_type": "markdown",
      "source": [
        "**Installing Pyomo and a solver**. Instead of installing glpk, this time we will install COIN-OR CBC. \\\\\n",
        "COIN-OR CBC is a multi-threaded open-source Coin-or branch and cut **mixed-integer linear programming solver**. CBC is generally a good choice for a general purpose MILP solver for medium to large scale problems."
      ],
      "metadata": {
        "id": "ofKbeZ72KSZp"
      }
    },
    {
      "cell_type": "code",
      "source": [
        "!pip install pyomo\n",
        "#!apt-get install -y -qq glpk-utils\n",
        "!apt-get install -y -qq coinor-cbc"
      ],
      "metadata": {
        "id": "Eba1nFWgKiVr"
      },
      "execution_count": null,
      "outputs": []
    },
    {
      "cell_type": "markdown",
      "source": [
        "**Importing Pyomo and CBC Solver**"
      ],
      "metadata": {
        "id": "Ejh8CBfyLCZj"
      }
    },
    {
      "cell_type": "code",
      "source": [
        "from pyomo.environ import *\n",
        "#Import solver\n",
        "opt=SolverFactory('cbc',executable='/usr/bin/cbc')"
      ],
      "metadata": {
        "id": "-DLDB4bOLHWz"
      },
      "execution_count": null,
      "outputs": []
    },
    {
      "cell_type": "markdown",
      "source": [
        "**Building the abstract model**"
      ],
      "metadata": {
        "id": "_XLpvrBlLPwr"
      }
    },
    {
      "cell_type": "markdown",
      "source": [
        "Now that we are begining to create more general models we will learn how to work with abstract models. The excercise we did before where we tried to generalize the model was a preparation for understanding **abstract models**. \\\\\n",
        "Abstract models are just defined by symbols and rules. You can not use the argument expr when defining constraints and objetive for abstract models.\n",
        "\n",
        "The idea is to create a general model that would be used to solve multiple **instances** fo the same optimization problem. In other words we could solve the same problem for different parameters."
      ],
      "metadata": {
        "id": "_X66LmsWLs1j"
      }
    },
    {
      "cell_type": "code",
      "source": [
        "from math import inf\n",
        "\n",
        "model = AbstractModel()\n",
        "\n",
        "model.I = Set() # Set of Factories\n",
        "model.J = Set() # Set of Pollutants\n",
        "\n",
        "# Parameters Definition\n",
        "# ci - Cost to process waste from factory\n",
        "model.c    = Param(model.I, within=PositiveReals)\n",
        "# rij - Rate of reduction in pollutant type if emission is treated at factory\n",
        "model.r    = Param(model.I, model.J, within=NonNegativeReals)\n",
        "# Sj - State requirement to reduce pollutants\n",
        "model.S = Param(model.J)\n",
        "\n",
        "# wi - Processed waste from Factory\n",
        "model.w = Var(model.I, within=NonNegativeReals)\n",
        "\n",
        "# Minimize the cost to reduce pollutants\n",
        "def cost_rule(model):\n",
        "    return sum(model.c[i]*model.w[i] for i in model.I)\n",
        "model.cost = Objective(rule=cost_rule)\n",
        "\n",
        "# Satisfy the state's requeriments on pollutant reduction\n",
        "def pollutant_rule(model, j):\n",
        "    return sum(model.r[i,j]*model.w[i] for i in model.I) >= model.S[j]\n",
        "model.pollutant = Constraint(model.J, rule=pollutant_rule)"
      ],
      "metadata": {
        "id": "3qGsVossLW8T"
      },
      "execution_count": null,
      "outputs": []
    },
    {
      "cell_type": "markdown",
      "source": [
        "**Creating the model instance** - using data contained in the data file riverpol.dat"
      ],
      "metadata": {
        "id": "BgtOZRnHOGK3"
      }
    },
    {
      "cell_type": "code",
      "source": [
        "instance = model.create_instance('riverpol.dat')\n",
        "instance.pprint()"
      ],
      "metadata": {
        "id": "6NdmFGllMtL8"
      },
      "execution_count": null,
      "outputs": []
    },
    {
      "cell_type": "markdown",
      "source": [
        "**Optimizing the model instance**"
      ],
      "metadata": {
        "id": "Pywr6kNJOO46"
      }
    },
    {
      "cell_type": "code",
      "source": [
        "results = opt.solve(instance, tee=True)"
      ],
      "metadata": {
        "id": "Uj7ttFgpNinB"
      },
      "execution_count": null,
      "outputs": []
    },
    {
      "cell_type": "markdown",
      "source": [
        "**Display Results**"
      ],
      "metadata": {
        "id": "un-asORNOXBR"
      }
    },
    {
      "cell_type": "code",
      "source": [
        "print(instance.display())"
      ],
      "metadata": {
        "id": "3uFr7JyEN8L5"
      },
      "execution_count": null,
      "outputs": []
    },
    {
      "cell_type": "markdown",
      "source": [
        "**Creating another Instance of the Model**"
      ],
      "metadata": {
        "id": "aWSBpPZdPHkj"
      }
    },
    {
      "cell_type": "code",
      "source": [
        "instance2 = model.create_instance('riverpol3factories.dat')\n",
        "instance2.pprint()"
      ],
      "metadata": {
        "id": "d11afE_hPQQc"
      },
      "execution_count": null,
      "outputs": []
    },
    {
      "cell_type": "markdown",
      "source": [
        "**Optimizing Instance 2 and Displaying Results**"
      ],
      "metadata": {
        "id": "l2yd11VqPWfe"
      }
    },
    {
      "cell_type": "code",
      "source": [
        "results2 = opt.solve(instance2, tee=True)\n",
        "print(instance2.display())"
      ],
      "metadata": {
        "id": "vZKmDg4LPhBn"
      },
      "execution_count": null,
      "outputs": []
    }
  ]
}