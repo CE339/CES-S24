{
  "nbformat": 4,
  "nbformat_minor": 0,
  "metadata": {
    "colab": {
      "provenance": [],
      "authorship_tag": "ABX9TyMTqiXFrAEfyDq0SFHuFBKv",
      "include_colab_link": true
    },
    "kernelspec": {
      "name": "python3",
      "display_name": "Python 3"
    },
    "language_info": {
      "name": "python"
    }
  },
  "cells": [
    {
      "cell_type": "markdown",
      "metadata": {
        "id": "view-in-github",
        "colab_type": "text"
      },
      "source": [
        "<a href=\"https://colab.research.google.com/github/CE339/CES-S24/blob/main/Module06/shortpath_toWorkOn.ipynb\" target=\"_parent\"><img src=\"https://colab.research.google.com/assets/colab-badge.svg\" alt=\"Open In Colab\"/></a>"
      ]
    },
    {
      "cell_type": "markdown",
      "source": [
        "**Initializing Google Colab**"
      ],
      "metadata": {
        "id": "25EJeMvwKF0h"
      }
    },
    {
      "cell_type": "code",
      "execution_count": null,
      "metadata": {
        "id": "TZundEmDJrHv"
      },
      "outputs": [],
      "source": [
        "from google.colab import drive\n",
        "drive.mount('/content/drive')"
      ]
    },
    {
      "cell_type": "code",
      "source": [
        "import os\n",
        "os.chdir('/content/drive/MyDrive/Colab Notebooks/')"
      ],
      "metadata": {
        "id": "xmw13J7pKO7_"
      },
      "execution_count": null,
      "outputs": []
    },
    {
      "cell_type": "markdown",
      "source": [
        "**Installing Pyomo and a solver**"
      ],
      "metadata": {
        "id": "ofKbeZ72KSZp"
      }
    },
    {
      "cell_type": "code",
      "source": [
        "!pip install pyomo\n",
        "!apt-get install -y -qq coinor-cbc  #!apt-get install -y -qq glpk-utils"
      ],
      "metadata": {
        "id": "Eba1nFWgKiVr"
      },
      "execution_count": null,
      "outputs": []
    },
    {
      "cell_type": "markdown",
      "source": [
        "**Importing Pyomo and CBC Solver**"
      ],
      "metadata": {
        "id": "Ejh8CBfyLCZj"
      }
    },
    {
      "cell_type": "code",
      "source": [
        "from pyomo.environ import *\n",
        "#Import solver\n",
        "opt=SolverFactory('cbc',executable='/usr/bin/cbc')"
      ],
      "metadata": {
        "id": "-DLDB4bOLHWz"
      },
      "execution_count": null,
      "outputs": []
    },
    {
      "cell_type": "markdown",
      "source": [
        "**Building the abstract model**"
      ],
      "metadata": {
        "id": "_XLpvrBlLPwr"
      }
    },
    {
      "cell_type": "code",
      "source": [
        "from math import inf\n",
        "\n",
        "model = AbstractModel()\n",
        "\n",
        "model.N = Set() #Nodes set\n",
        "model.A = Set(within=model.N*model.N) #Arcs set\n",
        "\n",
        "#set cost parameters\n",
        "model.c = Param(model.A, within=PositiveReals)\n",
        "\n",
        "#decision variables\n",
        "# Flow in the arc defined as decision variable xij\n",
        "model.x = Var(model.A, within=NonNegativeReals)\n",
        "\n",
        "#Objective Function\n",
        "#minimize the flow cost in the network\n",
        "def cost_rule(model):\n",
        "\treturn sum(model.c[i,j]*model.x[i,j] for (i,j) in model.A)\n",
        "model.total = Objective(rule=cost_rule, sense=minimize)\n",
        "\n",
        "#This is the flow balance constraint (flow_rule below)\n",
        "#for the min cost network flow problem\n",
        "#some modifications are necessary in order to represent\n",
        "#the shortest path problem\n",
        "#think about them and implement!!!\n",
        "def flow_rule(model, k):\n",
        "    inFlow  = sum(model.x[i,j] for (i,j) in model.A if j == k)\n",
        "    outFlow = sum(model.x[i,j] for (i,j) in model.A if i == k)\n",
        "    return inFlow + model.supply[k] == outFlow\n",
        "model.flow = Constraint(model.N, rule=flow_rule)\n",
        "\n",
        "#------------------------------------------------------------------------------\n",
        "#Suffix for dual variables reporting. See more details at https://pyomo.readthedocs.io/en/stable/working_models.html\n",
        "#------------------------------------------------------------------------------\n",
        "model.dual = Suffix(direction=Suffix.IMPORT_EXPORT)\n",
        "model.rc = Suffix(direction=Suffix.IMPORT_EXPORT)"
      ],
      "metadata": {
        "id": "3qGsVossLW8T"
      },
      "execution_count": null,
      "outputs": []
    },
    {
      "cell_type": "markdown",
      "source": [
        "**Creating the model instance** - using data contained in the data file shortpath.dat"
      ],
      "metadata": {
        "id": "BgtOZRnHOGK3"
      }
    },
    {
      "cell_type": "code",
      "source": [
        "instance = model.create_instance('shortpath.dat')\n",
        "instance.pprint()"
      ],
      "metadata": {
        "id": "6NdmFGllMtL8"
      },
      "execution_count": null,
      "outputs": []
    },
    {
      "cell_type": "markdown",
      "source": [
        "**Optimizing the model instance**"
      ],
      "metadata": {
        "id": "Pywr6kNJOO46"
      }
    },
    {
      "cell_type": "code",
      "source": [
        "results = opt.solve(instance, tee=True)"
      ],
      "metadata": {
        "id": "Uj7ttFgpNinB"
      },
      "execution_count": null,
      "outputs": []
    },
    {
      "cell_type": "markdown",
      "source": [
        "**Display Results**"
      ],
      "metadata": {
        "id": "un-asORNOXBR"
      }
    },
    {
      "cell_type": "code",
      "source": [
        "print(instance.display())"
      ],
      "metadata": {
        "id": "3uFr7JyEN8L5"
      },
      "execution_count": null,
      "outputs": []
    },
    {
      "cell_type": "markdown",
      "source": [
        "**Looking at the Dual Variables Associated with the Constraints**"
      ],
      "metadata": {
        "id": "aWSBpPZdPHkj"
      }
    },
    {
      "cell_type": "code",
      "source": [
        "instance.dual.pprint() #Printing Dual Vars\n",
        "instance.rc.pprint() #Printing Reduced Costs"
      ],
      "metadata": {
        "id": "oAwk1lXO3RAT"
      },
      "execution_count": null,
      "outputs": []
    }
  ]
}