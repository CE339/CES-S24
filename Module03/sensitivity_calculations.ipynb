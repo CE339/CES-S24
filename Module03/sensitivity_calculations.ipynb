{
  "nbformat": 4,
  "nbformat_minor": 0,
  "metadata": {
    "colab": {
      "provenance": [],
      "authorship_tag": "ABX9TyN6DyoE3tC3dQfU7iJ4kNa3",
      "include_colab_link": true
    },
    "kernelspec": {
      "name": "python3",
      "display_name": "Python 3"
    },
    "language_info": {
      "name": "python"
    }
  },
  "cells": [
    {
      "cell_type": "markdown",
      "metadata": {
        "id": "view-in-github",
        "colab_type": "text"
      },
      "source": [
        "<a href=\"https://colab.research.google.com/github/CE339/CES-S24/blob/main/Module03/sensitivity_calculations.ipynb\" target=\"_parent\"><img src=\"https://colab.research.google.com/assets/colab-badge.svg\" alt=\"Open In Colab\"/></a>"
      ]
    },
    {
      "cell_type": "code",
      "execution_count": 13,
      "metadata": {
        "colab": {
          "base_uri": "https://localhost:8080/"
        },
        "id": "Yr56Ngt4rzTv",
        "outputId": "18bdff42-6857-4421-97ce-de1d058b9681"
      },
      "outputs": [
        {
          "output_type": "stream",
          "name": "stdout",
          "text": [
            "[[ 0.25       -0.25      ]\n",
            " [ 0.25        0.08333333]]\n",
            "[ 3.75 13.75]\n",
            "[2.5  1.25 6.25 3.75]\n",
            "-393.75\n",
            "[-26.25]\n"
          ]
        }
      ],
      "source": [
        "# Import required package\n",
        "import numpy as np\n",
        "\n",
        "# Taking a 2 * 2 matrix\n",
        "B = np.array([[1, 3],\n",
        "              [-3, 3]])\n",
        "N = np.array([[3, 3, 1, 0],\n",
        "              [1, 2, 0, 1]])\n",
        "cb = np.array([5,-30])\n",
        "cn = np.array([-20,-25,0,0])\n",
        "b = np.array([45,30]).T #T for transpose\n",
        "\n",
        "#Computing the inverse of the B matrix\n",
        "Binv = np.linalg.inv(B)\n",
        "print(Binv)\n",
        "\n",
        "#Computing values for xb\n",
        "xb = Binv.dot(b)\n",
        "print(xb)\n",
        "\n",
        "#Computing the reduced costs for the nonbasic variables\n",
        "temp = Binv.dot(N)\n",
        "temp = cb.dot(temp)\n",
        "cbarn = cn - temp\n",
        "print(cbarn)\n",
        "\n",
        "#Evaluating the objective function value for the values of x3 and x4\n",
        "z= 5*3.75 - 30*13.75\n",
        "print(z)\n",
        "\n",
        "#Computing the optimality range for c2\n",
        "A2 = np.array([[3],\n",
        "              [2]])\n",
        "pi = cb.dot(Binv)\n",
        "c2 = pi.dot(A2)\n",
        "print(c2)\n"
      ]
    }
  ]
}