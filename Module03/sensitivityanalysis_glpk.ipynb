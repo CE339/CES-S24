{
  "nbformat": 4,
  "nbformat_minor": 0,
  "metadata": {
    "colab": {
      "provenance": [],
      "authorship_tag": "ABX9TyOQCRfhvaPEOhJqXF/uMPBk",
      "include_colab_link": true
    },
    "kernelspec": {
      "name": "python3",
      "display_name": "Python 3"
    },
    "language_info": {
      "name": "python"
    }
  },
  "cells": [
    {
      "cell_type": "markdown",
      "metadata": {
        "id": "view-in-github",
        "colab_type": "text"
      },
      "source": [
        "<a href=\"https://colab.research.google.com/github/CE339/CES-S24/blob/main/Module03/sensitivityanalysis_glpk.ipynb\" target=\"_parent\"><img src=\"https://colab.research.google.com/assets/colab-badge.svg\" alt=\"Open In Colab\"/></a>"
      ]
    },
    {
      "cell_type": "code",
      "execution_count": null,
      "metadata": {
        "id": "lZK6byZhNNNO"
      },
      "outputs": [],
      "source": [
        "!pip install -q pyomo"
      ]
    },
    {
      "cell_type": "code",
      "source": [
        "!apt-get install -y -qq glpk-utils"
      ],
      "metadata": {
        "id": "VD3_59Qa5dHA"
      },
      "execution_count": null,
      "outputs": []
    },
    {
      "cell_type": "code",
      "source": [
        "from pyomo.environ import *\n",
        "# create a model\n",
        "model = ConcreteModel()\n",
        "\n",
        "# declare decision variables\n",
        "model.x1 = Var(within=NonNegativeReals)\n",
        "model.x2 = Var(within=NonNegativeReals)\n",
        "model.x3 = Var(within=NonNegativeReals)\n",
        "model.x4 = Var(within=NonNegativeReals)\n",
        "\n",
        "# declare objective\n",
        "model.cost = Objective(expr = -20*model.x1 -25*model.x2 + 5*model.x3 -30*model.x4, sense=minimize)\n",
        "\n",
        "# declare constraints\n",
        "model.constraint1 = Constraint(expr = 3*model.x1 + 3*model.x2 +   model.x3 + 3*model.x4 <= 45)\n",
        "model.constraint2 = Constraint(expr =   model.x1 + 2*model.x2 - 3*model.x3 + 3*model.x4 <= 30)\n",
        "\n",
        "model.pprint()\n",
        "\n",
        "#Suffix for dual variables reporting\n",
        "#See more details at https://pyomo.readthedocs.io/en/stable/working_models.html\n",
        "model.dual = Suffix(direction=Suffix.IMPORT_EXPORT)\n",
        "model.rc = Suffix(direction=Suffix.IMPORT_EXPORT)"
      ],
      "metadata": {
        "id": "N-7YSSxtNSYa"
      },
      "execution_count": null,
      "outputs": []
    },
    {
      "cell_type": "code",
      "source": [
        "#SolverFactory('gurobi'), executable='/usr/bin/gurobi').solve(model).write()\n",
        "optimizer = SolverFactory(\"glpk\")\n",
        "optimizer.solve(model)\n",
        "model.display()\n",
        "model.dual.pprint() #Printing Dual Vars\n",
        "model.rc.pprint() #Printing Reduced Costs\n",
        "\n",
        "# display solution\n",
        "print('\\nCost = ', model.cost())\n",
        "\n",
        "print('\\nDecision Variables')\n",
        "print('x1 = ', model.x1())\n",
        "print('x2 = ', model.x2())\n",
        "print('x3 = ', model.x3())\n",
        "print('x4 = ', model.x4())\n",
        "\n",
        "print('\\nConstraints')\n",
        "print('Constraint 1 = ', model.constraint1())\n",
        "print('Constraint 2 = ', model.constraint2())"
      ],
      "metadata": {
        "id": "R0gfXM4WNvhM"
      },
      "execution_count": null,
      "outputs": []
    }
  ]
}