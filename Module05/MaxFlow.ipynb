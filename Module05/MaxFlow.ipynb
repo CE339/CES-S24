{
  "nbformat": 4,
  "nbformat_minor": 0,
  "metadata": {
    "colab": {
      "provenance": [],
      "authorship_tag": "ABX9TyMR8qIfSVsDPpR+AqyN5CXt",
      "include_colab_link": true
    },
    "kernelspec": {
      "name": "python3",
      "display_name": "Python 3"
    },
    "language_info": {
      "name": "python"
    }
  },
  "cells": [
    {
      "cell_type": "markdown",
      "metadata": {
        "id": "view-in-github",
        "colab_type": "text"
      },
      "source": [
        "<a href=\"https://colab.research.google.com/github/CE339/CES-S24/blob/main/Module05/MaxFlow.ipynb\" target=\"_parent\"><img src=\"https://colab.research.google.com/assets/colab-badge.svg\" alt=\"Open In Colab\"/></a>"
      ]
    },
    {
      "cell_type": "markdown",
      "source": [
        "**Initializing Google Colab**"
      ],
      "metadata": {
        "id": "25EJeMvwKF0h"
      }
    },
    {
      "cell_type": "code",
      "execution_count": null,
      "metadata": {
        "id": "TZundEmDJrHv"
      },
      "outputs": [],
      "source": [
        "from google.colab import drive\n",
        "drive.mount('/content/drive')"
      ]
    },
    {
      "cell_type": "code",
      "source": [
        "import os\n",
        "os.chdir('/content/drive/MyDrive/Colab Notebooks/')"
      ],
      "metadata": {
        "id": "xmw13J7pKO7_"
      },
      "execution_count": 2,
      "outputs": []
    },
    {
      "cell_type": "code",
      "source": [
        "!pip install pyomo\n",
        "!apt-get install -y -qq coinor-cbc  #!apt-get install -y -qq glpk-utils"
      ],
      "metadata": {
        "id": "Eba1nFWgKiVr"
      },
      "execution_count": null,
      "outputs": []
    },
    {
      "cell_type": "markdown",
      "source": [
        "**Importing Pyomo and CBC Solver**"
      ],
      "metadata": {
        "id": "Ejh8CBfyLCZj"
      }
    },
    {
      "cell_type": "code",
      "source": [
        "from pyomo.environ import *\n",
        "#Import solver\n",
        "opt=SolverFactory('cbc',executable='/usr/bin/cbc')"
      ],
      "metadata": {
        "id": "-DLDB4bOLHWz"
      },
      "execution_count": 4,
      "outputs": []
    },
    {
      "cell_type": "code",
      "source": [
        "from math import inf\n",
        "infinity = float('inf')\n",
        "\n",
        "model = ConcreteModel()\n",
        "\n",
        "model.x12 = Var(within=Reals,bounds=(-infinity,1000))\n",
        "model.x13 = Var(within=Reals,bounds=(-infinity,700))\n",
        "model.x14 = Var(within=Reals,bounds=(-infinity,900))\n",
        "model.x24 = Var(within=Reals,bounds=(-infinity,400))\n",
        "model.x25 = Var(within=Reals,bounds=(-infinity,700))\n",
        "model.x35 = Var(within=Reals,bounds=(-infinity,800))\n",
        "model.x45 = Var(within=Reals,bounds=(-infinity,1000))\n",
        "model.y  = Var(within=Reals)\n",
        "\n",
        "#Constraints\n",
        "model.c1 = Constraint(expr = model.x12 + model.x13 + model.x14 -model.y == 0)\n",
        "model.c2 = Constraint(expr = model.x12 - model.x24 - model.x25 == 0)\n",
        "model.c3 = Constraint(expr = model.x13 - model.x35 == 0)\n",
        "model.c4 = Constraint(expr = model.x14 + model.x24  -model.x45 == 0)\n",
        "model.c5 = Constraint(expr = model.x25 + model.x35  +model.x45 -model.y == 0)\n",
        "#model.c6 = Constraint(expr = model.x12 + model.x13 + model.x14 -(model.x25 + model.x35  +model.x45) == 0)\n",
        "\n",
        "#Objective Function\n",
        "model.z  =  Objective(expr = model.y, sense=maximize)\n",
        "\n",
        "#------------------------------------------------------------------------------\n",
        "#Suffix for dual variables reporting. See more details at https://pyomo.readthedocs.io/en/stable/working_models.html\n",
        "#------------------------------------------------------------------------------\n",
        "model.dual = Suffix(direction=Suffix.IMPORT_EXPORT)\n",
        "model.rc = Suffix(direction=Suffix.IMPORT_EXPORT)"
      ],
      "metadata": {
        "id": "3qGsVossLW8T"
      },
      "execution_count": 6,
      "outputs": []
    },
    {
      "cell_type": "markdown",
      "source": [
        "**Optimizing the model instance**"
      ],
      "metadata": {
        "id": "Pywr6kNJOO46"
      }
    },
    {
      "cell_type": "code",
      "source": [
        "results = opt.solve(model, tee=True)"
      ],
      "metadata": {
        "id": "Uj7ttFgpNinB"
      },
      "execution_count": null,
      "outputs": []
    },
    {
      "cell_type": "markdown",
      "source": [
        "**Display Results**"
      ],
      "metadata": {
        "id": "un-asORNOXBR"
      }
    },
    {
      "cell_type": "code",
      "source": [
        "print(model.display())"
      ],
      "metadata": {
        "id": "3uFr7JyEN8L5"
      },
      "execution_count": null,
      "outputs": []
    },
    {
      "cell_type": "markdown",
      "source": [
        "**Looking at the Dual Variables Associated with the Constraints**"
      ],
      "metadata": {
        "id": "aWSBpPZdPHkj"
      }
    },
    {
      "cell_type": "code",
      "source": [
        "model.dual.pprint() #Printing Dual Vars\n",
        "model.rc.pprint() #Printing Reduced Costs"
      ],
      "metadata": {
        "id": "oAwk1lXO3RAT"
      },
      "execution_count": null,
      "outputs": []
    }
  ]
}