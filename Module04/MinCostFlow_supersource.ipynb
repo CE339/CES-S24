{
  "nbformat": 4,
  "nbformat_minor": 0,
  "metadata": {
    "colab": {
      "provenance": [],
      "authorship_tag": "ABX9TyPyleYtz8cuWE8We9obyT+d",
      "include_colab_link": true
    },
    "kernelspec": {
      "name": "python3",
      "display_name": "Python 3"
    },
    "language_info": {
      "name": "python"
    }
  },
  "cells": [
    {
      "cell_type": "markdown",
      "metadata": {
        "id": "view-in-github",
        "colab_type": "text"
      },
      "source": [
        "<a href=\"https://colab.research.google.com/github/CE339/CES-S24/blob/main/Module04/MinCostFlow_supersource.ipynb\" target=\"_parent\"><img src=\"https://colab.research.google.com/assets/colab-badge.svg\" alt=\"Open In Colab\"/></a>"
      ]
    },
    {
      "cell_type": "markdown",
      "source": [
        "**Initializing Google Colab**"
      ],
      "metadata": {
        "id": "25EJeMvwKF0h"
      }
    },
    {
      "cell_type": "code",
      "execution_count": null,
      "metadata": {
        "id": "TZundEmDJrHv"
      },
      "outputs": [],
      "source": [
        "from google.colab import drive\n",
        "drive.mount('/content/drive')"
      ]
    },
    {
      "cell_type": "code",
      "source": [
        "import os\n",
        "os.chdir('/content/drive/MyDrive/Colab Notebooks/')"
      ],
      "metadata": {
        "id": "xmw13J7pKO7_"
      },
      "execution_count": 18,
      "outputs": []
    },
    {
      "cell_type": "code",
      "source": [
        "!pip install pyomo\n",
        "!apt-get install -y -qq coinor-cbc  #!apt-get install -y -qq glpk-utils"
      ],
      "metadata": {
        "id": "Eba1nFWgKiVr"
      },
      "execution_count": null,
      "outputs": []
    },
    {
      "cell_type": "markdown",
      "source": [
        "**Importing Pyomo and CBC Solver**"
      ],
      "metadata": {
        "id": "Ejh8CBfyLCZj"
      }
    },
    {
      "cell_type": "code",
      "source": [
        "from pyomo.environ import *\n",
        "#Import solver\n",
        "opt=SolverFactory('cbc',executable='/usr/bin/cbc')"
      ],
      "metadata": {
        "id": "-DLDB4bOLHWz"
      },
      "execution_count": 4,
      "outputs": []
    },
    {
      "cell_type": "markdown",
      "source": [
        "**Building the abstract model**"
      ],
      "metadata": {
        "id": "_XLpvrBlLPwr"
      }
    },
    {
      "cell_type": "markdown",
      "source": [
        "We will use an **abstract model** representation to the min cost network flow problem.\\\n",
        "As mentioned in one previous example, **abstract models** are just defined by symbols and rules.\n",
        "\n",
        "The idea is to create a general model that would be used to solve multiple **instances** fo the same optimization problem. In other words we could solve the same problem for different parameters."
      ],
      "metadata": {
        "id": "_X66LmsWLs1j"
      }
    },
    {
      "cell_type": "code",
      "source": [
        "from math import inf\n",
        "\n",
        "model = AbstractModel()\n",
        "\n",
        "model.N = Set() #Nodes set\n",
        "model.A = Set(within=model.N*model.N) #Arcs set\n",
        "\n",
        "# ci - Shipping costs\n",
        "model.supply = Param(model.N, within=Reals)\n",
        "model.c      = Param(model.A, within=Reals) #Changed from positive reals with respect to the min cost network flow problem\n",
        "model.ub     = Param(model.A, within=NonNegativeReals)\n",
        "#!!!New parameter to enforce lower bound on each arc\n",
        "model.lb     = Param(model.A, within=NonNegativeReals)\n",
        "\n",
        "# Flow in the arc defined as decision variable xij\n",
        "model.x  = Var(model.A,   within=NonNegativeReals)\n",
        "\n",
        "# Minimize the flow cost in the network\n",
        "def cost_rule(model):\n",
        "    return sum(model.c[i,j]*model.x[i,j] for (i, j) in model.A)\n",
        "model.total = Objective(rule=cost_rule, sense=minimize)\n",
        "\n",
        "# Enforce an upper limit on the flow across each arc\n",
        "def limit_rule(model, i, j):\n",
        "    return model.x[i,j] <= model.ub[i,j]\n",
        "model.limit_ub = Constraint(model.A, rule=limit_rule)\n",
        "\n",
        "# !!!New constraint to enforce a lower limit on the flow across each arc\n",
        "def limit_rule(model, i, j):\n",
        "    return model.x[i,j] >= model.lb[i,j]\n",
        "model.limit_lb = Constraint(model.A, rule=limit_rule)\n",
        "\n",
        "# Enforce flow through each node\n",
        "def flow_rule(model, k):\n",
        "    inFlow  = sum(model.x[i,j] for (i,j) in model.A if j == k)\n",
        "    outFlow = sum(model.x[i,j] for (i,j) in model.A if i == k)\n",
        "    return inFlow + model.supply[k] == outFlow\n",
        "model.flow = Constraint(model.N, rule=flow_rule)\n",
        "\n",
        "#------------------------------------------------------------------------------\n",
        "#Suffix for dual variables reporting. See more details at https://pyomo.readthedocs.io/en/stable/working_models.html\n",
        "#------------------------------------------------------------------------------\n",
        "model.dual = Suffix(direction=Suffix.IMPORT_EXPORT)\n",
        "model.rc = Suffix(direction=Suffix.IMPORT_EXPORT)"
      ],
      "metadata": {
        "id": "3qGsVossLW8T"
      },
      "execution_count": 27,
      "outputs": []
    },
    {
      "cell_type": "markdown",
      "source": [
        "**Creating the model instance** - using data contained in the data file"
      ],
      "metadata": {
        "id": "BgtOZRnHOGK3"
      }
    },
    {
      "cell_type": "code",
      "source": [
        "instance = model.create_instance('netflow_supersource.dat')\n",
        "instance.pprint()"
      ],
      "metadata": {
        "id": "6NdmFGllMtL8"
      },
      "execution_count": null,
      "outputs": []
    },
    {
      "cell_type": "markdown",
      "source": [
        "**Optimizing the model instance**"
      ],
      "metadata": {
        "id": "Pywr6kNJOO46"
      }
    },
    {
      "cell_type": "code",
      "source": [
        "results = opt.solve(instance, tee=True)"
      ],
      "metadata": {
        "id": "Uj7ttFgpNinB"
      },
      "execution_count": null,
      "outputs": []
    },
    {
      "cell_type": "markdown",
      "source": [
        "**Display Results**"
      ],
      "metadata": {
        "id": "un-asORNOXBR"
      }
    },
    {
      "cell_type": "code",
      "source": [
        "print(instance.display())"
      ],
      "metadata": {
        "id": "3uFr7JyEN8L5"
      },
      "execution_count": null,
      "outputs": []
    },
    {
      "cell_type": "markdown",
      "source": [
        "**Looking at the Dual Variables Associated with the Constraints**"
      ],
      "metadata": {
        "id": "aWSBpPZdPHkj"
      }
    },
    {
      "cell_type": "code",
      "source": [
        "instance.dual.pprint() #Printing Dual Vars\n",
        "instance.rc.pprint() #Printing Reduced Costs"
      ],
      "metadata": {
        "id": "oAwk1lXO3RAT"
      },
      "execution_count": null,
      "outputs": []
    }
  ]
}